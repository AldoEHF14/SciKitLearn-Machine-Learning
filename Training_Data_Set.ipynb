{
  "nbformat": 4,
  "nbformat_minor": 0,
  "metadata": {
    "colab": {
      "provenance": [],
      "authorship_tag": "ABX9TyNet1EbAXi6VkSpzpDWiDJu",
      "include_colab_link": true
    },
    "kernelspec": {
      "name": "python3",
      "display_name": "Python 3"
    },
    "language_info": {
      "name": "python"
    }
  },
  "cells": [
    {
      "cell_type": "markdown",
      "metadata": {
        "id": "view-in-github",
        "colab_type": "text"
      },
      "source": [
        "<a href=\"https://colab.research.google.com/github/AldoEHF14/SciKitLearn-Machine-Learning/blob/main/Training_Data_Set.ipynb\" target=\"_parent\"><img src=\"https://colab.research.google.com/assets/colab-badge.svg\" alt=\"Open In Colab\"/></a>"
      ]
    },
    {
      "cell_type": "markdown",
      "source": [
        "# Datos para entrenar | Training Data Set\n",
        "## ¿Que es un conjunto de entrenamiento en Sciki-learn?\n",
        "\n",
        "En Scikit-learn, un conjunto de entrenamiento es un subconjunto de datos utilizado para entrenar un modelo de aprendizaje automático. Este conjunto se usa para que el modelo aprenda los patrones y relaciones en los datos, permitiéndole hacer predicciones precisas en datos nuevos.\n",
        "\n",
        "<b>¿Cómo utilizar Sklearn para separar tus datos, en el conjunto que servirá para entrenar el modelo, y el conjunto para probarlo? Aquí se muestra cómo hacerlo a partir de datos de películas de kaggle.</b>\n",
        "\n",
        "Ejemplo: Tenemos el archivo moviesc10.csv el cual tenemos 10 datos, para esta pequeña pureba en donde tomamo el 30% de esto datos como entrenamiento y el otro 70% para prueba. Esto con la finalidad de que el modelo haga predicciones con  datos que jamas haya visto y tambien no muestra la metricas para identificar el marge de error del modelo.\n",
        "\n",
        "Pagina de Sciki-learning:\n",
        "[Sciki-learn](https://scikit-learn.org/stable/)\n",
        "\n",
        "Conjunto de base de datos en kaggle:\n",
        "[Dataset](https://www.kaggle.com/datasets/PromptCloudHQ/imdb-data/data)\n",
        "\n",
        "Dataset para prueba: moviesc10.csv"
      ],
      "metadata": {
        "id": "j4rqShMO--1s"
      }
    },
    {
      "cell_type": "code",
      "source": [
        "import pandas as pd\n",
        "from sklearn.model_selection import train_test_split # Dividir el conjunto\n",
        "from sklearn import linear_model # Modelo de regresión lineal.\n",
        "from sklearn.metrics import mean_absolute_error\n",
        "from sklearn.metrics import r2_score\n",
        "import matplotlib.pyplot as plt\n"
      ],
      "metadata": {
        "id": "xPFkjMMuCkMp"
      },
      "execution_count": null,
      "outputs": []
    },
    {
      "cell_type": "code",
      "source": [
        "#Leer archivo desde el escritorio (Google Colab)\n",
        "from google.colab import files\n",
        "uploaded = files.upload()"
      ],
      "metadata": {
        "colab": {
          "base_uri": "https://localhost:8080/",
          "height": 73
        },
        "id": "PF-vc7Isdx0G",
        "outputId": "3077b6ce-5350-473d-ea24-b6602cdc4039"
      },
      "execution_count": null,
      "outputs": [
        {
          "output_type": "display_data",
          "data": {
            "text/plain": [
              "<IPython.core.display.HTML object>"
            ],
            "text/html": [
              "\n",
              "     <input type=\"file\" id=\"files-3e540e02-5c53-40df-80f8-1bd3e2f7a65d\" name=\"files[]\" multiple disabled\n",
              "        style=\"border:none\" />\n",
              "     <output id=\"result-3e540e02-5c53-40df-80f8-1bd3e2f7a65d\">\n",
              "      Upload widget is only available when the cell has been executed in the\n",
              "      current browser session. Please rerun this cell to enable.\n",
              "      </output>\n",
              "      <script>// Copyright 2017 Google LLC\n",
              "//\n",
              "// Licensed under the Apache License, Version 2.0 (the \"License\");\n",
              "// you may not use this file except in compliance with the License.\n",
              "// You may obtain a copy of the License at\n",
              "//\n",
              "//      http://www.apache.org/licenses/LICENSE-2.0\n",
              "//\n",
              "// Unless required by applicable law or agreed to in writing, software\n",
              "// distributed under the License is distributed on an \"AS IS\" BASIS,\n",
              "// WITHOUT WARRANTIES OR CONDITIONS OF ANY KIND, either express or implied.\n",
              "// See the License for the specific language governing permissions and\n",
              "// limitations under the License.\n",
              "\n",
              "/**\n",
              " * @fileoverview Helpers for google.colab Python module.\n",
              " */\n",
              "(function(scope) {\n",
              "function span(text, styleAttributes = {}) {\n",
              "  const element = document.createElement('span');\n",
              "  element.textContent = text;\n",
              "  for (const key of Object.keys(styleAttributes)) {\n",
              "    element.style[key] = styleAttributes[key];\n",
              "  }\n",
              "  return element;\n",
              "}\n",
              "\n",
              "// Max number of bytes which will be uploaded at a time.\n",
              "const MAX_PAYLOAD_SIZE = 100 * 1024;\n",
              "\n",
              "function _uploadFiles(inputId, outputId) {\n",
              "  const steps = uploadFilesStep(inputId, outputId);\n",
              "  const outputElement = document.getElementById(outputId);\n",
              "  // Cache steps on the outputElement to make it available for the next call\n",
              "  // to uploadFilesContinue from Python.\n",
              "  outputElement.steps = steps;\n",
              "\n",
              "  return _uploadFilesContinue(outputId);\n",
              "}\n",
              "\n",
              "// This is roughly an async generator (not supported in the browser yet),\n",
              "// where there are multiple asynchronous steps and the Python side is going\n",
              "// to poll for completion of each step.\n",
              "// This uses a Promise to block the python side on completion of each step,\n",
              "// then passes the result of the previous step as the input to the next step.\n",
              "function _uploadFilesContinue(outputId) {\n",
              "  const outputElement = document.getElementById(outputId);\n",
              "  const steps = outputElement.steps;\n",
              "\n",
              "  const next = steps.next(outputElement.lastPromiseValue);\n",
              "  return Promise.resolve(next.value.promise).then((value) => {\n",
              "    // Cache the last promise value to make it available to the next\n",
              "    // step of the generator.\n",
              "    outputElement.lastPromiseValue = value;\n",
              "    return next.value.response;\n",
              "  });\n",
              "}\n",
              "\n",
              "/**\n",
              " * Generator function which is called between each async step of the upload\n",
              " * process.\n",
              " * @param {string} inputId Element ID of the input file picker element.\n",
              " * @param {string} outputId Element ID of the output display.\n",
              " * @return {!Iterable<!Object>} Iterable of next steps.\n",
              " */\n",
              "function* uploadFilesStep(inputId, outputId) {\n",
              "  const inputElement = document.getElementById(inputId);\n",
              "  inputElement.disabled = false;\n",
              "\n",
              "  const outputElement = document.getElementById(outputId);\n",
              "  outputElement.innerHTML = '';\n",
              "\n",
              "  const pickedPromise = new Promise((resolve) => {\n",
              "    inputElement.addEventListener('change', (e) => {\n",
              "      resolve(e.target.files);\n",
              "    });\n",
              "  });\n",
              "\n",
              "  const cancel = document.createElement('button');\n",
              "  inputElement.parentElement.appendChild(cancel);\n",
              "  cancel.textContent = 'Cancel upload';\n",
              "  const cancelPromise = new Promise((resolve) => {\n",
              "    cancel.onclick = () => {\n",
              "      resolve(null);\n",
              "    };\n",
              "  });\n",
              "\n",
              "  // Wait for the user to pick the files.\n",
              "  const files = yield {\n",
              "    promise: Promise.race([pickedPromise, cancelPromise]),\n",
              "    response: {\n",
              "      action: 'starting',\n",
              "    }\n",
              "  };\n",
              "\n",
              "  cancel.remove();\n",
              "\n",
              "  // Disable the input element since further picks are not allowed.\n",
              "  inputElement.disabled = true;\n",
              "\n",
              "  if (!files) {\n",
              "    return {\n",
              "      response: {\n",
              "        action: 'complete',\n",
              "      }\n",
              "    };\n",
              "  }\n",
              "\n",
              "  for (const file of files) {\n",
              "    const li = document.createElement('li');\n",
              "    li.append(span(file.name, {fontWeight: 'bold'}));\n",
              "    li.append(span(\n",
              "        `(${file.type || 'n/a'}) - ${file.size} bytes, ` +\n",
              "        `last modified: ${\n",
              "            file.lastModifiedDate ? file.lastModifiedDate.toLocaleDateString() :\n",
              "                                    'n/a'} - `));\n",
              "    const percent = span('0% done');\n",
              "    li.appendChild(percent);\n",
              "\n",
              "    outputElement.appendChild(li);\n",
              "\n",
              "    const fileDataPromise = new Promise((resolve) => {\n",
              "      const reader = new FileReader();\n",
              "      reader.onload = (e) => {\n",
              "        resolve(e.target.result);\n",
              "      };\n",
              "      reader.readAsArrayBuffer(file);\n",
              "    });\n",
              "    // Wait for the data to be ready.\n",
              "    let fileData = yield {\n",
              "      promise: fileDataPromise,\n",
              "      response: {\n",
              "        action: 'continue',\n",
              "      }\n",
              "    };\n",
              "\n",
              "    // Use a chunked sending to avoid message size limits. See b/62115660.\n",
              "    let position = 0;\n",
              "    do {\n",
              "      const length = Math.min(fileData.byteLength - position, MAX_PAYLOAD_SIZE);\n",
              "      const chunk = new Uint8Array(fileData, position, length);\n",
              "      position += length;\n",
              "\n",
              "      const base64 = btoa(String.fromCharCode.apply(null, chunk));\n",
              "      yield {\n",
              "        response: {\n",
              "          action: 'append',\n",
              "          file: file.name,\n",
              "          data: base64,\n",
              "        },\n",
              "      };\n",
              "\n",
              "      let percentDone = fileData.byteLength === 0 ?\n",
              "          100 :\n",
              "          Math.round((position / fileData.byteLength) * 100);\n",
              "      percent.textContent = `${percentDone}% done`;\n",
              "\n",
              "    } while (position < fileData.byteLength);\n",
              "  }\n",
              "\n",
              "  // All done.\n",
              "  yield {\n",
              "    response: {\n",
              "      action: 'complete',\n",
              "    }\n",
              "  };\n",
              "}\n",
              "\n",
              "scope.google = scope.google || {};\n",
              "scope.google.colab = scope.google.colab || {};\n",
              "scope.google.colab._files = {\n",
              "  _uploadFiles,\n",
              "  _uploadFilesContinue,\n",
              "};\n",
              "})(self);\n",
              "</script> "
            ]
          },
          "metadata": {}
        },
        {
          "output_type": "stream",
          "name": "stdout",
          "text": [
            "Saving moviesc10.csv to moviesc10 (4).csv\n"
          ]
        }
      ]
    },
    {
      "cell_type": "code",
      "execution_count": null,
      "metadata": {
        "colab": {
          "base_uri": "https://localhost:8080/"
        },
        "id": "H4p7NgJe-om4",
        "outputId": "6fc5855d-c536-4066-8277-14404d5a72c4"
      },
      "outputs": [
        {
          "output_type": "stream",
          "name": "stdout",
          "text": [
            "Datos originales\n",
            "   cast_total_facebook_likes  imdb_score\n",
            "0                     108016         5.4\n",
            "1                     303717         5.2\n",
            "2                     656730         7.2\n",
            "3                     137712         5.7\n",
            "4                     120797         6.0\n",
            "5                     140268         6.0\n",
            "6                     170118         6.4\n",
            "7                     261818         9.1\n",
            "8                     263584         5.6\n",
            "9                     283939         3.9\n",
            "X_train\n",
            "[[120797]\n",
            " [137712]\n",
            " [170118]]\n",
            "y_train\n",
            "[6.  5.7 6.4]\n"
          ]
        }
      ],
      "source": [
        "# Leer los datos\n",
        "datos = pd.read_csv('moviesc10.csv')\n",
        "df = pd.DataFrame(datos)\n",
        "\n",
        "# Variable independiente\n",
        "x = df[\"cast_total_facebook_likes\"].values.reshape(-1, 1)  # matriz 2D\n",
        "# Variable dependiente\n",
        "y = df[\"imdb_score\"].values\n",
        "\n",
        "# Separar en entrenamiento y prueba\n",
        "# Muestra de prueba (test_size), los mismo datos(random_state)\n",
        "X_train,X_test,y_train,y_test = train_test_split(x,y,test_size=0.7,random_state=42)\n",
        "\n",
        "# Mostrar los datos\n",
        "print(\"Datos originales\")\n",
        "print(df)\n",
        "\n",
        "print(\"X_train\")\n",
        "print(X_train)\n",
        "\n",
        "print(\"y_train\")\n",
        "print(y_train)\n",
        "\n",
        "#Espera una matriz\n",
        "# X_train =X_train.values.reshape([X_train.values.shape[0],1])\n",
        "# X_test =X_test.values.reshape([X_test.values.shape[0],1])\n"
      ]
    },
    {
      "cell_type": "code",
      "source": [
        "# Entrenar el modelo de regresión lineal\n",
        "regr = linear_model.LinearRegression()\n",
        "regr.fit(X_train,y_train)\n",
        "\n",
        "# Prediciones con el modelo\n",
        "y_pred = regr.predict(X_test)\n",
        "\n",
        "\n",
        "# Mostrar métricas\n",
        "print(\"Error absoluto medio:\", mean_absolute_error(y_test, y_pred))\n",
        "print(\"Coeficiente R²:\", r2_score(y_test, y_pred))"
      ],
      "metadata": {
        "colab": {
          "base_uri": "https://localhost:8080/"
        },
        "id": "R7SQ2URDeUAo",
        "outputId": "0c353f6f-1503-49b2-b6c6-65b422ca9c29"
      },
      "execution_count": null,
      "outputs": [
        {
          "output_type": "stream",
          "name": "stdout",
          "text": [
            "Error absoluto medio: 1.956395178842264\n",
            "Coeficiente R²: -1.413554238248346\n"
          ]
        }
      ]
    },
    {
      "cell_type": "code",
      "source": [
        "# Graficar resultados\n",
        "plt.figure(figsize=(10, 6))\n",
        "plt.scatter(X_train, y_train, color='blue', label=\"Datos reales\",)\n",
        "plt.scatter(X_test, y_pred, color='red', label=\"Predicción del modelo\")\n",
        "plt.xlabel(\"cast_total_facebook_likes\")\n",
        "plt.ylabel(\"imdb_score\")\n",
        "plt.title(\"Regresión lineal: likes vs imdb_score\")\n",
        "plt.legend()\n",
        "plt.grid(True)\n",
        "plt.show()\n"
      ],
      "metadata": {
        "colab": {
          "base_uri": "https://localhost:8080/",
          "height": 426
        },
        "id": "A8nH8-wMeZXA",
        "outputId": "36402b2f-9d4d-451a-dce5-e4eb3cdf476c"
      },
      "execution_count": null,
      "outputs": [
        {
          "output_type": "display_data",
          "data": {
            "text/plain": [
              "<Figure size 1000x600 with 1 Axes>"
            ],
            "image/png": "[encoded data removed]"
          },
          "metadata": {}
        }
      ]
    }
  ]
}