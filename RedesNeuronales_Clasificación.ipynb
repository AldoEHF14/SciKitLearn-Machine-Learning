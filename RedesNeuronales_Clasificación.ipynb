{
  "nbformat": 4,
  "nbformat_minor": 0,
  "metadata": {
    "colab": {
      "provenance": [],
      "authorship_tag": "ABX9TyOXsFjv2MCxeWA6Q0bOK+Ki",
      "include_colab_link": true
    },
    "kernelspec": {
      "name": "python3",
      "display_name": "Python 3"
    },
    "language_info": {
      "name": "python"
    }
  },
  "cells": [
    {
      "cell_type": "markdown",
      "metadata": {
        "id": "view-in-github",
        "colab_type": "text"
      },
      "source": [
        "<a href=\"https://colab.research.google.com/github/AldoEHF14/SciKitLearn-Machine-Learning/blob/main/RedesNeuronales_Clasificaci%C3%B3n.ipynb\" target=\"_parent\"><img src=\"https://colab.research.google.com/assets/colab-badge.svg\" alt=\"Open In Colab\"/></a>"
      ]
    },
    {
      "cell_type": "markdown",
      "source": [
        "# Redes Neuronales| Clasificación\n",
        "## ¿Que es una red neoronal de clasificación?\n",
        "\n",
        "La clasificación es una tarea clave en el aprendizaje supervisado , donde los modelos categorizan nuevos datos mediante ejemplos etiquetados.Entonces es un tipo de red neuronal artificial que se utiliza para asignar datos de entrada a una o más categorías predefinidas. En esencia, estas redes aprenden a reconocer patrones en los datos y a utilizarlos para determinar a qué clase pertenece cada elemento.\n",
        "\n",
        "## ¿Para qué se utiliza?\n",
        "Las redes neuronales se usan en tareas donde necesitamos aprender patrones complejos en los datos.\n",
        "En clasificación específicamente, sirven para:\n",
        "- Reconocimiento de imágenes (ej. identificar si una foto es un perro o un gato 🐶🐱).\n",
        "- Reconocimiento de voz (convertir audio en texto 🎤).\n",
        "- Diagnóstico médico (clasificar si un tumor es benigno o maligno 🧬).\n",
        "- Predicción de fraudes en transacciones bancarias 💳.\n",
        "- Clasificación de textos (spam / no spam en correos 📧).\n",
        "\n",
        "\n"
      ],
      "metadata": {
        "id": "Qh9ntiVH_xs9"
      }
    },
    {
      "cell_type": "markdown",
      "source": [
        "# Ejemplo\n",
        "\n",
        "Construir una Red Neuronal Multicapa (MLP) que intenta predecir el género de un videojuego basándose en: la plataforma (PS, Xbox, etc.),la compañía publicadora (Publisher), y las ventas globales.\n",
        "\n",
        "Scikit Learn:\n",
        "[Scikit-learn](https://scikit-learn.org/stable/)\n",
        "\n",
        "Artículo de introducción a las redes neuronales:\n",
        "[Redes neuronales](https://ujjwalkarn.me/2016/08/09/quick-intro-neural-networks/)\n",
        "\n",
        "Base de datos original de las ventas de videojuegos:\n",
        "[Dataset](https://www.kaggle.com/datasets/gregorut/videogamesales)\n"
      ],
      "metadata": {
        "id": "OKr3TYoVVql4"
      }
    },
    {
      "cell_type": "code",
      "source": [
        "import pandas as pd\n",
        "import numpy as np\n",
        "from sklearn.preprocessing import LabelEncoder\n",
        "from sklearn.model_selection import train_test_split\n",
        "from sklearn.preprocessing import StandardScaler\n",
        "from sklearn.neural_network import MLPClassifier\n",
        "from sklearn.metrics import classification_report\n"
      ],
      "metadata": {
        "id": "B3lYTyZqWTM6"
      },
      "execution_count": 7,
      "outputs": []
    },
    {
      "cell_type": "code",
      "source": [
        "from google.colab import files\n",
        "uploaded  = files.upload()"
      ],
      "metadata": {
        "colab": {
          "base_uri": "https://localhost:8080/",
          "height": 73
        },
        "id": "fxV4Rg4YROng",
        "outputId": "6b0bf8fc-7080-407e-bbc5-6cd18eb0ab77"
      },
      "execution_count": 8,
      "outputs": [
        {
          "output_type": "display_data",
          "data": {
            "text/plain": [
              "<IPython.core.display.HTML object>"
            ],
            "text/html": [
              "\n",
              "     <input type=\"file\" id=\"files-21894823-30b4-4064-bc8b-03fec1467a4e\" name=\"files[]\" multiple disabled\n",
              "        style=\"border:none\" />\n",
              "     <output id=\"result-21894823-30b4-4064-bc8b-03fec1467a4e\">\n",
              "      Upload widget is only available when the cell has been executed in the\n",
              "      current browser session. Please rerun this cell to enable.\n",
              "      </output>\n",
              "      <script>// Copyright 2017 Google LLC\n",
              "//\n",
              "// Licensed under the Apache License, Version 2.0 (the \"License\");\n",
              "// you may not use this file except in compliance with the License.\n",
              "// You may obtain a copy of the License at\n",
              "//\n",
              "//      http://www.apache.org/licenses/LICENSE-2.0\n",
              "//\n",
              "// Unless required by applicable law or agreed to in writing, software\n",
              "// distributed under the License is distributed on an \"AS IS\" BASIS,\n",
              "// WITHOUT WARRANTIES OR CONDITIONS OF ANY KIND, either express or implied.\n",
              "// See the License for the specific language governing permissions and\n",
              "// limitations under the License.\n",
              "\n",
              "/**\n",
              " * @fileoverview Helpers for google.colab Python module.\n",
              " */\n",
              "(function(scope) {\n",
              "function span(text, styleAttributes = {}) {\n",
              "  const element = document.createElement('span');\n",
              "  element.textContent = text;\n",
              "  for (const key of Object.keys(styleAttributes)) {\n",
              "    element.style[key] = styleAttributes[key];\n",
              "  }\n",
              "  return element;\n",
              "}\n",
              "\n",
              "// Max number of bytes which will be uploaded at a time.\n",
              "const MAX_PAYLOAD_SIZE = 100 * 1024;\n",
              "\n",
              "function _uploadFiles(inputId, outputId) {\n",
              "  const steps = uploadFilesStep(inputId, outputId);\n",
              "  const outputElement = document.getElementById(outputId);\n",
              "  // Cache steps on the outputElement to make it available for the next call\n",
              "  // to uploadFilesContinue from Python.\n",
              "  outputElement.steps = steps;\n",
              "\n",
              "  return _uploadFilesContinue(outputId);\n",
              "}\n",
              "\n",
              "// This is roughly an async generator (not supported in the browser yet),\n",
              "// where there are multiple asynchronous steps and the Python side is going\n",
              "// to poll for completion of each step.\n",
              "// This uses a Promise to block the python side on completion of each step,\n",
              "// then passes the result of the previous step as the input to the next step.\n",
              "function _uploadFilesContinue(outputId) {\n",
              "  const outputElement = document.getElementById(outputId);\n",
              "  const steps = outputElement.steps;\n",
              "\n",
              "  const next = steps.next(outputElement.lastPromiseValue);\n",
              "  return Promise.resolve(next.value.promise).then((value) => {\n",
              "    // Cache the last promise value to make it available to the next\n",
              "    // step of the generator.\n",
              "    outputElement.lastPromiseValue = value;\n",
              "    return next.value.response;\n",
              "  });\n",
              "}\n",
              "\n",
              "/**\n",
              " * Generator function which is called between each async step of the upload\n",
              " * process.\n",
              " * @param {string} inputId Element ID of the input file picker element.\n",
              " * @param {string} outputId Element ID of the output display.\n",
              " * @return {!Iterable<!Object>} Iterable of next steps.\n",
              " */\n",
              "function* uploadFilesStep(inputId, outputId) {\n",
              "  const inputElement = document.getElementById(inputId);\n",
              "  inputElement.disabled = false;\n",
              "\n",
              "  const outputElement = document.getElementById(outputId);\n",
              "  outputElement.innerHTML = '';\n",
              "\n",
              "  const pickedPromise = new Promise((resolve) => {\n",
              "    inputElement.addEventListener('change', (e) => {\n",
              "      resolve(e.target.files);\n",
              "    });\n",
              "  });\n",
              "\n",
              "  const cancel = document.createElement('button');\n",
              "  inputElement.parentElement.appendChild(cancel);\n",
              "  cancel.textContent = 'Cancel upload';\n",
              "  const cancelPromise = new Promise((resolve) => {\n",
              "    cancel.onclick = () => {\n",
              "      resolve(null);\n",
              "    };\n",
              "  });\n",
              "\n",
              "  // Wait for the user to pick the files.\n",
              "  const files = yield {\n",
              "    promise: Promise.race([pickedPromise, cancelPromise]),\n",
              "    response: {\n",
              "      action: 'starting',\n",
              "    }\n",
              "  };\n",
              "\n",
              "  cancel.remove();\n",
              "\n",
              "  // Disable the input element since further picks are not allowed.\n",
              "  inputElement.disabled = true;\n",
              "\n",
              "  if (!files) {\n",
              "    return {\n",
              "      response: {\n",
              "        action: 'complete',\n",
              "      }\n",
              "    };\n",
              "  }\n",
              "\n",
              "  for (const file of files) {\n",
              "    const li = document.createElement('li');\n",
              "    li.append(span(file.name, {fontWeight: 'bold'}));\n",
              "    li.append(span(\n",
              "        `(${file.type || 'n/a'}) - ${file.size} bytes, ` +\n",
              "        `last modified: ${\n",
              "            file.lastModifiedDate ? file.lastModifiedDate.toLocaleDateString() :\n",
              "                                    'n/a'} - `));\n",
              "    const percent = span('0% done');\n",
              "    li.appendChild(percent);\n",
              "\n",
              "    outputElement.appendChild(li);\n",
              "\n",
              "    const fileDataPromise = new Promise((resolve) => {\n",
              "      const reader = new FileReader();\n",
              "      reader.onload = (e) => {\n",
              "        resolve(e.target.result);\n",
              "      };\n",
              "      reader.readAsArrayBuffer(file);\n",
              "    });\n",
              "    // Wait for the data to be ready.\n",
              "    let fileData = yield {\n",
              "      promise: fileDataPromise,\n",
              "      response: {\n",
              "        action: 'continue',\n",
              "      }\n",
              "    };\n",
              "\n",
              "    // Use a chunked sending to avoid message size limits. See b/62115660.\n",
              "    let position = 0;\n",
              "    do {\n",
              "      const length = Math.min(fileData.byteLength - position, MAX_PAYLOAD_SIZE);\n",
              "      const chunk = new Uint8Array(fileData, position, length);\n",
              "      position += length;\n",
              "\n",
              "      const base64 = btoa(String.fromCharCode.apply(null, chunk));\n",
              "      yield {\n",
              "        response: {\n",
              "          action: 'append',\n",
              "          file: file.name,\n",
              "          data: base64,\n",
              "        },\n",
              "      };\n",
              "\n",
              "      let percentDone = fileData.byteLength === 0 ?\n",
              "          100 :\n",
              "          Math.round((position / fileData.byteLength) * 100);\n",
              "      percent.textContent = `${percentDone}% done`;\n",
              "\n",
              "    } while (position < fileData.byteLength);\n",
              "  }\n",
              "\n",
              "  // All done.\n",
              "  yield {\n",
              "    response: {\n",
              "      action: 'complete',\n",
              "    }\n",
              "  };\n",
              "}\n",
              "\n",
              "scope.google = scope.google || {};\n",
              "scope.google.colab = scope.google.colab || {};\n",
              "scope.google.colab._files = {\n",
              "  _uploadFiles,\n",
              "  _uploadFilesContinue,\n",
              "};\n",
              "})(self);\n",
              "</script> "
            ]
          },
          "metadata": {}
        },
        {
          "output_type": "stream",
          "name": "stdout",
          "text": [
            "Saving vgsales.csv to vgsales (1).csv\n"
          ]
        }
      ]
    },
    {
      "cell_type": "code",
      "execution_count": 9,
      "metadata": {
        "id": "j_3pNlBA_p36",
        "colab": {
          "base_uri": "https://localhost:8080/"
        },
        "outputId": "64f33d5b-d3e7-409a-dcca-148f6efa6e08"
      },
      "outputs": [
        {
          "output_type": "stream",
          "name": "stdout",
          "text": [
            "0        Wii\n",
            "1        NES\n",
            "2        Wii\n",
            "3        Wii\n",
            "4         GB\n",
            "        ... \n",
            "16593    GBA\n",
            "16594     GC\n",
            "16595    PS2\n",
            "16596     DS\n",
            "16597    GBA\n",
            "Name: Platform, Length: 16598, dtype: object\n",
            "[26 11  5  4 28 17 16 23  6  1 18 10 15 29 13  2 19 30  7 27  8  3 20 21\n",
            " 22 25 12 24  0  9 14]\n"
          ]
        }
      ],
      "source": [
        "juegos = pd.read_csv(\"vgsales.csv\")\n",
        "\n",
        "juegos = juegos.replace(np.nan,\"0\")\n",
        "juegos['Platform'] = juegos['Platform'].replace(\"2600\",\"Atari\")\n",
        "\n",
        "print(juegos[\"Platform\"])\n",
        "\n",
        "# Exportar a un nuevo CSV\n",
        "# juegos.to_csv(\"juegos.csv\", index=False) # ,sep=\"\\t\")\n",
        "# files.download(\"juegos.csv\")\n",
        "\n",
        "# Cambiar los datos a tipo numerico\n",
        "# Definir el codificador\n",
        "encoder = LabelEncoder()\n",
        "juegos['Platform'] = encoder.fit_transform(juegos.Platform.values)\n",
        "juegos['Publisher'] = encoder.fit_transform(juegos.Publisher.values)\n",
        "\n",
        "#Visualizar la tranformacion\n",
        "print(juegos.Platform.unique())\n",
        "\n",
        "X = juegos[[\"Platform\",\"Publisher\",\"Global_Sales\"]]\n",
        "y = juegos[\"Genre\"]\n"
      ]
    },
    {
      "cell_type": "code",
      "source": [
        "# Dividir el dataset en entrenamiento y prueba\n",
        "X_train, X_test, y_train, y_test = train_test_split(X, y)\n",
        "\n",
        "# Escalar los datos\n",
        "scaler = StandardScaler()\n",
        "\n",
        "# Entrenar los datos\n",
        "scaler.fit(X_train)\n",
        "\n",
        "# Escalar\n",
        "X_train = scaler.transform(X_train)\n",
        "X_test = scaler.transform(X_test)\n",
        "\n",
        "# Definir la red\n",
        "mlp=MLPClassifier(hidden_layer_sizes=(10,10,10), max_iter=500, alpha=0.0001,\n",
        "                     solver='adam', random_state=21,tol=0.000000001)\n",
        "\n",
        "# mlp = MLPClassifier(hidden_layer_sizes=(6,6,6,6),solver='lbfgs',max_iter=6000)\n",
        "\n",
        "# Entrenamiento\n",
        "mlp.fit(X_train,y_train)\n",
        "\n",
        "# Prueba\n",
        "pred = mlp.predict(X_test)\n",
        "\n",
        "# imprimir report\n",
        "print(classification_report(y_test,pred))\n"
      ],
      "metadata": {
        "id": "Yl55QKLlWqWv",
        "colab": {
          "base_uri": "https://localhost:8080/"
        },
        "outputId": "b1e6115d-3b50-43dd-cb0e-950cf3c2d222"
      },
      "execution_count": 11,
      "outputs": [
        {
          "output_type": "stream",
          "name": "stdout",
          "text": [
            "              precision    recall  f1-score   support\n",
            "\n",
            "      Action       0.22      0.61      0.33       829\n",
            "   Adventure       0.28      0.29      0.29       306\n",
            "    Fighting       0.00      0.00      0.00       226\n",
            "        Misc       0.19      0.19      0.19       407\n",
            "    Platform       0.20      0.06      0.10       252\n",
            "      Puzzle       0.00      0.00      0.00       140\n",
            "      Racing       0.00      0.00      0.00       319\n",
            "Role-Playing       0.21      0.09      0.12       371\n",
            "     Shooter       0.29      0.01      0.03       296\n",
            "  Simulation       0.00      0.00      0.00       228\n",
            "      Sports       0.24      0.38      0.30       592\n",
            "    Strategy       0.00      0.00      0.00       184\n",
            "\n",
            "    accuracy                           0.23      4150\n",
            "   macro avg       0.14      0.14      0.11      4150\n",
            "weighted avg       0.17      0.23      0.17      4150\n",
            "\n"
          ]
        },
        {
          "output_type": "stream",
          "name": "stderr",
          "text": [
            "/usr/local/lib/python3.11/dist-packages/sklearn/neural_network/_multilayer_perceptron.py:691: ConvergenceWarning: Stochastic Optimizer: Maximum iterations (500) reached and the optimization hasn't converged yet.\n",
            "  warnings.warn(\n",
            "/usr/local/lib/python3.11/dist-packages/sklearn/metrics/_classification.py:1565: UndefinedMetricWarning: Precision is ill-defined and being set to 0.0 in labels with no predicted samples. Use `zero_division` parameter to control this behavior.\n",
            "  _warn_prf(average, modifier, f\"{metric.capitalize()} is\", len(result))\n",
            "/usr/local/lib/python3.11/dist-packages/sklearn/metrics/_classification.py:1565: UndefinedMetricWarning: Precision is ill-defined and being set to 0.0 in labels with no predicted samples. Use `zero_division` parameter to control this behavior.\n",
            "  _warn_prf(average, modifier, f\"{metric.capitalize()} is\", len(result))\n",
            "/usr/local/lib/python3.11/dist-packages/sklearn/metrics/_classification.py:1565: UndefinedMetricWarning: Precision is ill-defined and being set to 0.0 in labels with no predicted samples. Use `zero_division` parameter to control this behavior.\n",
            "  _warn_prf(average, modifier, f\"{metric.capitalize()} is\", len(result))\n"
          ]
        }
      ]
    }
  ]
}