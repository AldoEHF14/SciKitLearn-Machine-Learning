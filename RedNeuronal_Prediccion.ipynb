{
  "cells": [
    {
      "cell_type": "markdown",
      "metadata": {
        "id": "view-in-github",
        "colab_type": "text"
      },
      "source": [
        "<a href=\"https://colab.research.google.com/github/AldoEHF14/SciKitLearn-Machine-Learning/blob/main/RedNeuronal_Prediccion.ipynb\" target=\"_parent\"><img src=\"https://colab.research.google.com/assets/colab-badge.svg\" alt=\"Open In Colab\"/></a>"
      ]
    },
    {
      "cell_type": "markdown",
      "source": [
        "# Red Neuronal - Predicción\n",
        "## ¿Que es una Red Neorunal Predictiva?\n",
        "\n",
        "Una red neuronal predictiva es un tipo de red neuronal artificial que se entrena con datos históricos para aprender patrones y relaciones complejas entre variables, con el objetivo de hacer predicciones sobre datos futuros o desconocidos.\n",
        "\n",
        "## ¿Para qué se utiliza?\n",
        "Regresión (valores continuos):\n",
        "\n",
        "- Predecir el precio de una casa.\n",
        "- Estimar la temperatura de mañana.\n",
        "- Pronosticar la demanda de un producto.\n",
        "\n"
      ],
      "metadata": {
        "id": "F0i5km91ZgMP"
      },
      "id": "F0i5km91ZgMP"
    },
    {
      "cell_type": "markdown",
      "id": "f6dc96b1-b3a8-4b8a-b52a-8e7f005ba3d2",
      "metadata": {
        "id": "f6dc96b1-b3a8-4b8a-b52a-8e7f005ba3d2"
      },
      "source": [
        "## Ejemplo\n",
        "\n",
        "Mostramos cómo entrenar una red neuronal, para poder predecir valores, e incluso utilizamos un ciclo While, muy sencillo, que nos permitirá buscar el modelo que tenga el valor de Score más alto (Buen nivel de presicion). Tiempo en que se tarda un celular en cargarse y el procentaje de carga de la bateria\n",
        "\n",
        "Scikit-Learn:\n",
        "[MLP](https://scikit-learn.org/stable/modules/generated/sklearn.neural_network.MLPClassifier.html)\n",
        "\n",
        "Dataset de prueba: [Dataset](https://docs.google.com/spreadsheets/d/1pJ7kE8UXpn8Zzn6J7M9IAbECMJpkJwNipSwcc693nFQ/edit?gid=0#gid=0)\n",
        "\n",
        "Este dataset contiene la carga de un bateria el cual este tiene dos columnas Tiempo y Carga, el cual cuenta con 36 registros cada uno.  "
      ]
    },
    {
      "cell_type": "code",
      "execution_count": null,
      "id": "c876de1b-dd4e-465c-9398-a5bfb6750f4f",
      "metadata": {
        "id": "c876de1b-dd4e-465c-9398-a5bfb6750f4f"
      },
      "outputs": [],
      "source": [
        "\"\"\" Importar librerías \"\"\"\n",
        "import pandas as pd\n",
        "import numpy as np\n",
        "from sklearn.neural_network import MLPRegressor\n",
        "from sklearn.model_selection import train_test_split\n"
      ]
    },
    {
      "cell_type": "code",
      "source": [
        "#Leer archivo desde el escritorio (Google Colab)\n",
        "from google.colab import files\n",
        "uploaded = files.upload()"
      ],
      "metadata": {
        "id": "wGLownvFduZw",
        "colab": {
          "base_uri": "https://localhost:8080/",
          "height": 73
        },
        "outputId": "049a04d7-d02d-4543-d919-d51205d5d7e6"
      },
      "id": "wGLownvFduZw",
      "execution_count": null,
      "outputs": [
        {
          "output_type": "display_data",
          "data": {
            "text/plain": [
              "<IPython.core.display.HTML object>"
            ],
            "text/html": [
              "\n",
              "     <input type=\"file\" id=\"files-88db8fed-7685-4ad7-b0ce-3b4aae7ad5fe\" name=\"files[]\" multiple disabled\n",
              "        style=\"border:none\" />\n",
              "     <output id=\"result-88db8fed-7685-4ad7-b0ce-3b4aae7ad5fe\">\n",
              "      Upload widget is only available when the cell has been executed in the\n",
              "      current browser session. Please rerun this cell to enable.\n",
              "      </output>\n",
              "      <script>// Copyright 2017 Google LLC\n",
              "//\n",
              "// Licensed under the Apache License, Version 2.0 (the \"License\");\n",
              "// you may not use this file except in compliance with the License.\n",
              "// You may obtain a copy of the License at\n",
              "//\n",
              "//      http://www.apache.org/licenses/LICENSE-2.0\n",
              "//\n",
              "// Unless required by applicable law or agreed to in writing, software\n",
              "// distributed under the License is distributed on an \"AS IS\" BASIS,\n",
              "// WITHOUT WARRANTIES OR CONDITIONS OF ANY KIND, either express or implied.\n",
              "// See the License for the specific language governing permissions and\n",
              "// limitations under the License.\n",
              "\n",
              "/**\n",
              " * @fileoverview Helpers for google.colab Python module.\n",
              " */\n",
              "(function(scope) {\n",
              "function span(text, styleAttributes = {}) {\n",
              "  const element = document.createElement('span');\n",
              "  element.textContent = text;\n",
              "  for (const key of Object.keys(styleAttributes)) {\n",
              "    element.style[key] = styleAttributes[key];\n",
              "  }\n",
              "  return element;\n",
              "}\n",
              "\n",
              "// Max number of bytes which will be uploaded at a time.\n",
              "const MAX_PAYLOAD_SIZE = 100 * 1024;\n",
              "\n",
              "function _uploadFiles(inputId, outputId) {\n",
              "  const steps = uploadFilesStep(inputId, outputId);\n",
              "  const outputElement = document.getElementById(outputId);\n",
              "  // Cache steps on the outputElement to make it available for the next call\n",
              "  // to uploadFilesContinue from Python.\n",
              "  outputElement.steps = steps;\n",
              "\n",
              "  return _uploadFilesContinue(outputId);\n",
              "}\n",
              "\n",
              "// This is roughly an async generator (not supported in the browser yet),\n",
              "// where there are multiple asynchronous steps and the Python side is going\n",
              "// to poll for completion of each step.\n",
              "// This uses a Promise to block the python side on completion of each step,\n",
              "// then passes the result of the previous step as the input to the next step.\n",
              "function _uploadFilesContinue(outputId) {\n",
              "  const outputElement = document.getElementById(outputId);\n",
              "  const steps = outputElement.steps;\n",
              "\n",
              "  const next = steps.next(outputElement.lastPromiseValue);\n",
              "  return Promise.resolve(next.value.promise).then((value) => {\n",
              "    // Cache the last promise value to make it available to the next\n",
              "    // step of the generator.\n",
              "    outputElement.lastPromiseValue = value;\n",
              "    return next.value.response;\n",
              "  });\n",
              "}\n",
              "\n",
              "/**\n",
              " * Generator function which is called between each async step of the upload\n",
              " * process.\n",
              " * @param {string} inputId Element ID of the input file picker element.\n",
              " * @param {string} outputId Element ID of the output display.\n",
              " * @return {!Iterable<!Object>} Iterable of next steps.\n",
              " */\n",
              "function* uploadFilesStep(inputId, outputId) {\n",
              "  const inputElement = document.getElementById(inputId);\n",
              "  inputElement.disabled = false;\n",
              "\n",
              "  const outputElement = document.getElementById(outputId);\n",
              "  outputElement.innerHTML = '';\n",
              "\n",
              "  const pickedPromise = new Promise((resolve) => {\n",
              "    inputElement.addEventListener('change', (e) => {\n",
              "      resolve(e.target.files);\n",
              "    });\n",
              "  });\n",
              "\n",
              "  const cancel = document.createElement('button');\n",
              "  inputElement.parentElement.appendChild(cancel);\n",
              "  cancel.textContent = 'Cancel upload';\n",
              "  const cancelPromise = new Promise((resolve) => {\n",
              "    cancel.onclick = () => {\n",
              "      resolve(null);\n",
              "    };\n",
              "  });\n",
              "\n",
              "  // Wait for the user to pick the files.\n",
              "  const files = yield {\n",
              "    promise: Promise.race([pickedPromise, cancelPromise]),\n",
              "    response: {\n",
              "      action: 'starting',\n",
              "    }\n",
              "  };\n",
              "\n",
              "  cancel.remove();\n",
              "\n",
              "  // Disable the input element since further picks are not allowed.\n",
              "  inputElement.disabled = true;\n",
              "\n",
              "  if (!files) {\n",
              "    return {\n",
              "      response: {\n",
              "        action: 'complete',\n",
              "      }\n",
              "    };\n",
              "  }\n",
              "\n",
              "  for (const file of files) {\n",
              "    const li = document.createElement('li');\n",
              "    li.append(span(file.name, {fontWeight: 'bold'}));\n",
              "    li.append(span(\n",
              "        `(${file.type || 'n/a'}) - ${file.size} bytes, ` +\n",
              "        `last modified: ${\n",
              "            file.lastModifiedDate ? file.lastModifiedDate.toLocaleDateString() :\n",
              "                                    'n/a'} - `));\n",
              "    const percent = span('0% done');\n",
              "    li.appendChild(percent);\n",
              "\n",
              "    outputElement.appendChild(li);\n",
              "\n",
              "    const fileDataPromise = new Promise((resolve) => {\n",
              "      const reader = new FileReader();\n",
              "      reader.onload = (e) => {\n",
              "        resolve(e.target.result);\n",
              "      };\n",
              "      reader.readAsArrayBuffer(file);\n",
              "    });\n",
              "    // Wait for the data to be ready.\n",
              "    let fileData = yield {\n",
              "      promise: fileDataPromise,\n",
              "      response: {\n",
              "        action: 'continue',\n",
              "      }\n",
              "    };\n",
              "\n",
              "    // Use a chunked sending to avoid message size limits. See b/62115660.\n",
              "    let position = 0;\n",
              "    do {\n",
              "      const length = Math.min(fileData.byteLength - position, MAX_PAYLOAD_SIZE);\n",
              "      const chunk = new Uint8Array(fileData, position, length);\n",
              "      position += length;\n",
              "\n",
              "      const base64 = btoa(String.fromCharCode.apply(null, chunk));\n",
              "      yield {\n",
              "        response: {\n",
              "          action: 'append',\n",
              "          file: file.name,\n",
              "          data: base64,\n",
              "        },\n",
              "      };\n",
              "\n",
              "      let percentDone = fileData.byteLength === 0 ?\n",
              "          100 :\n",
              "          Math.round((position / fileData.byteLength) * 100);\n",
              "      percent.textContent = `${percentDone}% done`;\n",
              "\n",
              "    } while (position < fileData.byteLength);\n",
              "  }\n",
              "\n",
              "  // All done.\n",
              "  yield {\n",
              "    response: {\n",
              "      action: 'complete',\n",
              "    }\n",
              "  };\n",
              "}\n",
              "\n",
              "scope.google = scope.google || {};\n",
              "scope.google.colab = scope.google.colab || {};\n",
              "scope.google.colab._files = {\n",
              "  _uploadFiles,\n",
              "  _uploadFilesContinue,\n",
              "};\n",
              "})(self);\n",
              "</script> "
            ]
          },
          "metadata": {}
        },
        {
          "output_type": "stream",
          "name": "stdout",
          "text": [
            "Saving bateria.csv to bateria.csv\n"
          ]
        }
      ]
    },
    {
      "cell_type": "code",
      "execution_count": null,
      "id": "81d4dbdf-214b-430e-9afe-7de116b15134",
      "metadata": {
        "id": "81d4dbdf-214b-430e-9afe-7de116b15134"
      },
      "outputs": [],
      "source": [
        "# Leer el archivo CSV\n",
        "datos = pd.read_csv(\"bateria.csv\")\n",
        "\n",
        "# Extraer las columnas como arrays de numpy\n",
        "x = datos[\"Tiempo\"].values\n",
        "y = datos[\"Carga\"].values\n",
        "\n",
        "#Imprimir valores\n",
        "# print(x)\n",
        "# print(y)\n",
        "\n",
        "# Convertir x a formato de matriz columna\n",
        "X = x[:, np.newaxis]\n"
      ]
    },
    {
      "cell_type": "code",
      "execution_count": null,
      "id": "2f7c8efa-e947-4391-a975-fe5a2ee0ee9a",
      "metadata": {
        "id": "2f7c8efa-e947-4391-a975-fe5a2ee0ee9a",
        "colab": {
          "base_uri": "https://localhost:8080/"
        },
        "outputId": "58529b7c-20b0-4c88-eef7-407b26f3fcfc"
      },
      "outputs": [
        {
          "output_type": "stream",
          "name": "stdout",
          "text": [
            "0.9987390502448347\n",
            "Predicción en t=20 minutos: 28.435062635628803\n"
          ]
        }
      ],
      "source": [
        "# Entrenar el modelo hasta que supere 95% de score\n",
        "\n",
        "\n",
        "while True:\n",
        "    X_train, X_test, y_train, y_test = train_test_split(X,y,test_size=0.3)\n",
        "\n",
        "    mlp = MLPRegressor(hidden_layer_sizes=(3, 3),\n",
        "                       solver='lbfgs',\n",
        "                       alpha=1e-5,\n",
        "                       random_state=1)\n",
        "\n",
        "    mlp.fit(X_train, y_train)  # Corrección aquí\n",
        "\n",
        "    score = mlp.score(X_train, y_train)\n",
        "    #print(\"Score del entrenamiento:\", score)\n",
        "\n",
        "    if score > 0.95:\n",
        "        break\n",
        "\n",
        "# Predicción en t=20 minutos\n",
        "prediccion = mlp.predict([[20]])\n",
        "\n",
        "print(mlp.score(X_train,y_train))\n",
        "print(\"Predicción en t=20 minutos:\", prediccion[0])\n"
      ]
    },
    {
      "cell_type": "code",
      "source": [
        "#Impimir entrenamiento\n",
        "print(X_train)\n",
        "print(y_train)\n",
        "print(\"Total: \",len(X_train))"
      ],
      "metadata": {
        "colab": {
          "base_uri": "https://localhost:8080/"
        },
        "id": "MzXpjZJsp0Jr",
        "outputId": "a42a6837-07f8-4697-c335-05ba468a7ded"
      },
      "id": "MzXpjZJsp0Jr",
      "execution_count": null,
      "outputs": [
        {
          "output_type": "stream",
          "name": "stdout",
          "text": [
            "[[  8]\n",
            " [ 68]\n",
            " [124]\n",
            " [ 72]\n",
            " [ 52]\n",
            " [100]\n",
            " [132]\n",
            " [ 48]\n",
            " [ 36]\n",
            " [140]\n",
            " [ 76]\n",
            " [ 80]\n",
            " [112]\n",
            " [ 84]\n",
            " [  4]\n",
            " [104]\n",
            " [ 12]\n",
            " [ 28]\n",
            " [ 96]\n",
            " [ 40]\n",
            " [  0]\n",
            " [136]\n",
            " [ 20]\n",
            " [ 64]\n",
            " [ 60]]\n",
            "[ 14  82  98  84  65  95  99  61  47 100  87  89  97  90  10  96  19  38\n",
            "  94  52   5  99  28  78  74]\n",
            "Total:  25\n"
          ]
        }
      ]
    },
    {
      "cell_type": "code",
      "source": [
        "#Impimir prueba 30%\n",
        "print(X_test)\n",
        "print(y_test)\n",
        "print(\"Total: \",len(X_test))\n"
      ],
      "metadata": {
        "colab": {
          "base_uri": "https://localhost:8080/"
        },
        "id": "BMz5aq6Ju9vd",
        "outputId": "8320da72-7e17-437f-a717-4ea9d0b5431d"
      },
      "id": "BMz5aq6Ju9vd",
      "execution_count": null,
      "outputs": [
        {
          "output_type": "stream",
          "name": "stdout",
          "text": [
            "[[ 88]\n",
            " [128]\n",
            " [ 44]\n",
            " [ 16]\n",
            " [108]\n",
            " [120]\n",
            " [ 56]\n",
            " [116]\n",
            " [ 92]\n",
            " [ 24]\n",
            " [ 32]]\n",
            "[92 99 56 24 97 98 70 98 93 33 42]\n",
            "Total:  11\n"
          ]
        }
      ]
    },
    {
      "cell_type": "code",
      "execution_count": null,
      "id": "8f22ab3b-ad62-4936-b7cd-0f5c5bb65238",
      "metadata": {
        "id": "8f22ab3b-ad62-4936-b7cd-0f5c5bb65238"
      },
      "outputs": [],
      "source": [
        "## Predecir la salida para varios entradas.\n",
        "\n",
        "# Creamos 40 valores en el intervalo [-5, 12]\n",
        "X_p = np.linspace(0, 140, 40)\n",
        "\n",
        "# X_test es un vector (1, 10), pero necesitamos un vector (10, 1)\n",
        "X_p = X_p.reshape(-1,1)\n",
        "\n",
        "# Hacer la predicción de los 10 puntos.\n",
        "y_p = mlp.predict(X_p)\n"
      ]
    },
    {
      "cell_type": "code",
      "execution_count": null,
      "id": "489e6feb-a92f-4c97-bdc8-dff6ebd55473",
      "metadata": {
        "id": "489e6feb-a92f-4c97-bdc8-dff6ebd55473",
        "colab": {
          "base_uri": "https://localhost:8080/",
          "height": 472
        },
        "outputId": "b300764c-ae58-4ff9-f37d-872dd26e955f"
      },
      "outputs": [
        {
          "output_type": "display_data",
          "data": {
            "text/plain": [
              "<Figure size 640x480 with 1 Axes>"
            ],
            "image/png": "[encoded data removed]"
          },
          "metadata": {}
        }
      ],
      "source": [
        "## Graficar los puntos de entrenamiento (azul) y puntos estimados (rojo).\n",
        "\n",
        "import matplotlib.pyplot as plt\n",
        "\n",
        "fig, ax = plt.subplots()\n",
        "\n",
        "ax.plot(X_p, y_p, 'ro',  X, y, 'bo')\n",
        "plt.xlabel(\"Eje X\")\n",
        "plt.ylabel(\"Eje Y\")\n",
        "plt.title(\"Graficar los puntos de entrenamiento y puntos de prediccion.\")\n",
        "plt.grid(True)\n",
        "\n",
        "plt.show()\n"
      ]
    },
    {
      "cell_type": "code",
      "execution_count": null,
      "id": "2c80fad4-8d66-484d-912c-97e45ee339e9",
      "metadata": {
        "id": "2c80fad4-8d66-484d-912c-97e45ee339e9",
        "colab": {
          "base_uri": "https://localhost:8080/"
        },
        "outputId": "365e9a9e-00bf-4c41-ecda-5d281a2dbd0a"
      },
      "outputs": [
        {
          "output_type": "stream",
          "name": "stdout",
          "text": [
            "[90.54563842 98.83610433 55.67476136 23.69283588 94.69087138 97.17801115\n",
            " 69.38130085 96.34896456 91.37468501 32.83052888 41.96822187]\n",
            "[92 99 56 24 97 98 70 98 93 33 42]\n"
          ]
        }
      ],
      "source": [
        "# Para predecir la clase de varios puntos de entrada con 30% del dataset\n",
        "predicted = mlp.predict( X_test )\n",
        "print(predicted)\n",
        "\n",
        "#Salida real\n",
        "print(y_test)\n"
      ]
    },
    {
      "cell_type": "code",
      "execution_count": null,
      "id": "89a67a1e-329d-4a8f-8092-9c29fdbc8da8",
      "metadata": {
        "id": "89a67a1e-329d-4a8f-8092-9c29fdbc8da8",
        "colab": {
          "base_uri": "https://localhost:8080/",
          "height": 472
        },
        "outputId": "1f501458-f2fc-418c-f852-94d2c134f7d2"
      },
      "outputs": [
        {
          "output_type": "display_data",
          "data": {
            "text/plain": [
              "<Figure size 640x480 with 1 Axes>"
            ],
            "image/png": "[encoded data removed]"
          },
          "metadata": {}
        }
      ],
      "source": [
        "# Graficar los puntos con 70% de entrenamiento(amarillo) y 30% de predicccion (rojo) del dataset\n",
        "\n",
        "fig, ax = plt.subplots()\n",
        "\n",
        "ax.plot(X_test, predicted, 'ro',  X, y, 'yo')\n",
        "plt.xlabel(\"Eje X\")\n",
        "plt.ylabel(\"Eje Y\")\n",
        "plt.title(\"Graficar los puntos de entrenamiento y puntos de prediccion (Dataset)\")\n",
        "plt.grid(True)\n",
        "\n",
        "plt.show()\n"
      ]
    }
  ],
  "metadata": {
    "kernelspec": {
      "display_name": "Python 3",
      "language": "python",
      "name": "python3"
    },
    "language_info": {
      "codemirror_mode": {
        "name": "ipython",
        "version": 3
      },
      "file_extension": ".py",
      "mimetype": "text/x-python",
      "name": "python",
      "nbconvert_exporter": "python",
      "pygments_lexer": "ipython3",
      "version": "3.11.9"
    },
    "colab": {
      "provenance": [],
      "include_colab_link": true
    }
  },
  "nbformat": 4,
  "nbformat_minor": 5
}