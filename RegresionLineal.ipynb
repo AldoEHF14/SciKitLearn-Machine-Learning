{
  "nbformat": 4,
  "nbformat_minor": 0,
  "metadata": {
    "colab": {
      "provenance": [],
      "authorship_tag": "ABX9TyM42LxCJO/PP3LqlD37jbjO",
      "include_colab_link": true
    },
    "kernelspec": {
      "name": "python3",
      "display_name": "Python 3"
    },
    "language_info": {
      "name": "python"
    }
  },
  "cells": [
    {
      "cell_type": "markdown",
      "metadata": {
        "id": "view-in-github",
        "colab_type": "text"
      },
      "source": [
        "<a href=\"https://colab.research.google.com/github/AldoEHF14/SciKitLearn-Machine-Learning/blob/main/RegresionLineal.ipynb\" target=\"_parent\"><img src=\"https://colab.research.google.com/assets/colab-badge.svg\" alt=\"Open In Colab\"/></a>"
      ]
    },
    {
      "cell_type": "markdown",
      "source": [
        "# Regresion Lineal - SciKitLearn\n",
        "## ¿Que es la Regresion Lineal?\n",
        "\n",
        "La regresión lineal es un algoritmo de aprendizaje supervisado que busca establecer una relación lineal entre una variable dependiente (la que se quiere predecir) y una o más variables independientes (las que se usan para predecir). Básicamente, intenta encontrar la línea recta (o hiperplano en más dimensiones) que mejor se ajuste a los datos, minimizando la distancia entre los puntos de datos y la línea.\n",
        "\n",
        "\n",
        " <img src=\"https://gplresearch.com/wp-content/uploads/2019/12/REGRESI%C3%93N-LINEAL.png\" alt=\"Regresion Lineal\" width=\"300\">"
      ],
      "metadata": {
        "id": "HG52xCdlGXkD"
      }
    },
    {
      "cell_type": "markdown",
      "source": [
        "Aprender de los datos suministrados y hacer con con mejores predicciones en los modelos matematicos.\n",
        "\n",
        "Ejemplo: Mostramos cómo hacer una regresión lineal en el módulo de machine learning o aprendizaje máquina, utilizamos la base de datos de películas de kaggle.\n",
        "\n",
        "\n",
        "Base de datos completa en kaggle:  [Dataset](https://www.kaggle.com/carolzhangdc/imdb-5000-movie-dataset/download)\n",
        "\n",
        "Skikit Learn: [Web](https://scikit-learn.org/stable/)\n",
        "\n",
        "El dataset contiene un total de 5043 registros."
      ],
      "metadata": {
        "id": "4KMK8ofRVMzT"
      }
    },
    {
      "cell_type": "code",
      "execution_count": 1,
      "metadata": {
        "id": "k8xPaaXdFs9P"
      },
      "outputs": [],
      "source": [
        "# Importar la librerias\n",
        "import pandas as pd\n",
        "import numpy as np\n",
        "import matplotlib.pyplot as plt\n",
        "from sklearn import linear_model # Modelo de regresión lineal.\n",
        "from sklearn.metrics import r2_score # Que tan cercano estan los valores que se predicen a los valores reales o que tambein se ajusta al modelo\n"
      ]
    },
    {
      "cell_type": "code",
      "source": [
        "#Leer archivo desde el escritorio (Google Colab)\n",
        "from google.colab import files\n",
        "uploaded = files.upload()"
      ],
      "metadata": {
        "colab": {
          "base_uri": "https://localhost:8080/",
          "height": 73
        },
        "id": "ZJjdV91eMleJ",
        "outputId": "186fbac1-009c-42d1-a2e7-18f5f25d0bec"
      },
      "execution_count": 2,
      "outputs": [
        {
          "output_type": "display_data",
          "data": {
            "text/plain": [
              "<IPython.core.display.HTML object>"
            ],
            "text/html": [
              "\n",
              "     <input type=\"file\" id=\"files-3ab399ba-25b0-4b15-8283-22b5ab4504b2\" name=\"files[]\" multiple disabled\n",
              "        style=\"border:none\" />\n",
              "     <output id=\"result-3ab399ba-25b0-4b15-8283-22b5ab4504b2\">\n",
              "      Upload widget is only available when the cell has been executed in the\n",
              "      current browser session. Please rerun this cell to enable.\n",
              "      </output>\n",
              "      <script>// Copyright 2017 Google LLC\n",
              "//\n",
              "// Licensed under the Apache License, Version 2.0 (the \"License\");\n",
              "// you may not use this file except in compliance with the License.\n",
              "// You may obtain a copy of the License at\n",
              "//\n",
              "//      http://www.apache.org/licenses/LICENSE-2.0\n",
              "//\n",
              "// Unless required by applicable law or agreed to in writing, software\n",
              "// distributed under the License is distributed on an \"AS IS\" BASIS,\n",
              "// WITHOUT WARRANTIES OR CONDITIONS OF ANY KIND, either express or implied.\n",
              "// See the License for the specific language governing permissions and\n",
              "// limitations under the License.\n",
              "\n",
              "/**\n",
              " * @fileoverview Helpers for google.colab Python module.\n",
              " */\n",
              "(function(scope) {\n",
              "function span(text, styleAttributes = {}) {\n",
              "  const element = document.createElement('span');\n",
              "  element.textContent = text;\n",
              "  for (const key of Object.keys(styleAttributes)) {\n",
              "    element.style[key] = styleAttributes[key];\n",
              "  }\n",
              "  return element;\n",
              "}\n",
              "\n",
              "// Max number of bytes which will be uploaded at a time.\n",
              "const MAX_PAYLOAD_SIZE = 100 * 1024;\n",
              "\n",
              "function _uploadFiles(inputId, outputId) {\n",
              "  const steps = uploadFilesStep(inputId, outputId);\n",
              "  const outputElement = document.getElementById(outputId);\n",
              "  // Cache steps on the outputElement to make it available for the next call\n",
              "  // to uploadFilesContinue from Python.\n",
              "  outputElement.steps = steps;\n",
              "\n",
              "  return _uploadFilesContinue(outputId);\n",
              "}\n",
              "\n",
              "// This is roughly an async generator (not supported in the browser yet),\n",
              "// where there are multiple asynchronous steps and the Python side is going\n",
              "// to poll for completion of each step.\n",
              "// This uses a Promise to block the python side on completion of each step,\n",
              "// then passes the result of the previous step as the input to the next step.\n",
              "function _uploadFilesContinue(outputId) {\n",
              "  const outputElement = document.getElementById(outputId);\n",
              "  const steps = outputElement.steps;\n",
              "\n",
              "  const next = steps.next(outputElement.lastPromiseValue);\n",
              "  return Promise.resolve(next.value.promise).then((value) => {\n",
              "    // Cache the last promise value to make it available to the next\n",
              "    // step of the generator.\n",
              "    outputElement.lastPromiseValue = value;\n",
              "    return next.value.response;\n",
              "  });\n",
              "}\n",
              "\n",
              "/**\n",
              " * Generator function which is called between each async step of the upload\n",
              " * process.\n",
              " * @param {string} inputId Element ID of the input file picker element.\n",
              " * @param {string} outputId Element ID of the output display.\n",
              " * @return {!Iterable<!Object>} Iterable of next steps.\n",
              " */\n",
              "function* uploadFilesStep(inputId, outputId) {\n",
              "  const inputElement = document.getElementById(inputId);\n",
              "  inputElement.disabled = false;\n",
              "\n",
              "  const outputElement = document.getElementById(outputId);\n",
              "  outputElement.innerHTML = '';\n",
              "\n",
              "  const pickedPromise = new Promise((resolve) => {\n",
              "    inputElement.addEventListener('change', (e) => {\n",
              "      resolve(e.target.files);\n",
              "    });\n",
              "  });\n",
              "\n",
              "  const cancel = document.createElement('button');\n",
              "  inputElement.parentElement.appendChild(cancel);\n",
              "  cancel.textContent = 'Cancel upload';\n",
              "  const cancelPromise = new Promise((resolve) => {\n",
              "    cancel.onclick = () => {\n",
              "      resolve(null);\n",
              "    };\n",
              "  });\n",
              "\n",
              "  // Wait for the user to pick the files.\n",
              "  const files = yield {\n",
              "    promise: Promise.race([pickedPromise, cancelPromise]),\n",
              "    response: {\n",
              "      action: 'starting',\n",
              "    }\n",
              "  };\n",
              "\n",
              "  cancel.remove();\n",
              "\n",
              "  // Disable the input element since further picks are not allowed.\n",
              "  inputElement.disabled = true;\n",
              "\n",
              "  if (!files) {\n",
              "    return {\n",
              "      response: {\n",
              "        action: 'complete',\n",
              "      }\n",
              "    };\n",
              "  }\n",
              "\n",
              "  for (const file of files) {\n",
              "    const li = document.createElement('li');\n",
              "    li.append(span(file.name, {fontWeight: 'bold'}));\n",
              "    li.append(span(\n",
              "        `(${file.type || 'n/a'}) - ${file.size} bytes, ` +\n",
              "        `last modified: ${\n",
              "            file.lastModifiedDate ? file.lastModifiedDate.toLocaleDateString() :\n",
              "                                    'n/a'} - `));\n",
              "    const percent = span('0% done');\n",
              "    li.appendChild(percent);\n",
              "\n",
              "    outputElement.appendChild(li);\n",
              "\n",
              "    const fileDataPromise = new Promise((resolve) => {\n",
              "      const reader = new FileReader();\n",
              "      reader.onload = (e) => {\n",
              "        resolve(e.target.result);\n",
              "      };\n",
              "      reader.readAsArrayBuffer(file);\n",
              "    });\n",
              "    // Wait for the data to be ready.\n",
              "    let fileData = yield {\n",
              "      promise: fileDataPromise,\n",
              "      response: {\n",
              "        action: 'continue',\n",
              "      }\n",
              "    };\n",
              "\n",
              "    // Use a chunked sending to avoid message size limits. See b/62115660.\n",
              "    let position = 0;\n",
              "    do {\n",
              "      const length = Math.min(fileData.byteLength - position, MAX_PAYLOAD_SIZE);\n",
              "      const chunk = new Uint8Array(fileData, position, length);\n",
              "      position += length;\n",
              "\n",
              "      const base64 = btoa(String.fromCharCode.apply(null, chunk));\n",
              "      yield {\n",
              "        response: {\n",
              "          action: 'append',\n",
              "          file: file.name,\n",
              "          data: base64,\n",
              "        },\n",
              "      };\n",
              "\n",
              "      let percentDone = fileData.byteLength === 0 ?\n",
              "          100 :\n",
              "          Math.round((position / fileData.byteLength) * 100);\n",
              "      percent.textContent = `${percentDone}% done`;\n",
              "\n",
              "    } while (position < fileData.byteLength);\n",
              "  }\n",
              "\n",
              "  // All done.\n",
              "  yield {\n",
              "    response: {\n",
              "      action: 'complete',\n",
              "    }\n",
              "  };\n",
              "}\n",
              "\n",
              "scope.google = scope.google || {};\n",
              "scope.google.colab = scope.google.colab || {};\n",
              "scope.google.colab._files = {\n",
              "  _uploadFiles,\n",
              "  _uploadFilesContinue,\n",
              "};\n",
              "})(self);\n",
              "</script> "
            ]
          },
          "metadata": {}
        },
        {
          "output_type": "stream",
          "name": "stdout",
          "text": [
            "Saving movie_metadata.csv to movie_metadata.csv\n"
          ]
        }
      ]
    },
    {
      "cell_type": "code",
      "source": [
        "# Preparar el modelo de regresion lineal\n",
        "regr = linear_model.LinearRegression()\n",
        "\n",
        "# Carga los datos del archivo CSV con información sobre películas.\n",
        "datos = pd.read_csv(\"movie_metadata.csv\")\n",
        "# Cargar los datos a un DataFrame llamado df\n",
        "df = pd.DataFrame(datos)\n",
        "\n",
        "# Variable independiente\n",
        "x = df[\"movie_facebook_likes\"].values\n",
        "# Variable dependiente\n",
        "y = df[\"imdb_score\"].values\n",
        "\n",
        "# Mayor nunmnero de likes esperamos un score mas alto\n",
        "# print(x)\n",
        "# print(y)\n",
        "\n",
        "# Leer esto datos que esta dando formato de un arreglo a los datos que estamos mandano a llamr\n",
        "X = x[:, np.newaxis]\n",
        "\n",
        "# Imprimir Formato de un arreglo\n",
        "print(X)\n",
        "# print(y)\n"
      ],
      "metadata": {
        "colab": {
          "base_uri": "https://localhost:8080/"
        },
        "id": "TBXzI3kBMoHc",
        "outputId": "816bdf15-cecb-4a50-f4af-3cd23eb4a879"
      },
      "execution_count": 9,
      "outputs": [
        {
          "output_type": "stream",
          "name": "stdout",
          "text": [
            "[[33000]\n",
            " [    0]\n",
            " [85000]\n",
            " ...\n",
            " [   16]\n",
            " [  660]\n",
            " [  456]]\n"
          ]
        }
      ]
    },
    {
      "cell_type": "code",
      "source": [
        "# Entrenar el  modelo de regresion lineal (aprende la relacion entre likes y score)\n",
        "print(regr.fit(X,y))\n",
        "\n",
        "# Obtener el coeficientes de regresión lineal estimados por el modelo\n",
        "print(regr.coef_) # Pendeinte\n",
        "# Formato de la ecucion de la linea recta m=pendiente\n",
        "m = regr.coef_[0] # Intercepcion\n",
        "b = regr.intercept_\n",
        "\n",
        "# Genrar predicciones\n",
        "y_p = m*X+b # El valor que se predice\n",
        "# y_p= regr.predict(X) # \"Es lo mismo que arriba\"\n",
        "\n",
        "\n",
        "print(\"y = {0}*x+{1}\".format(m,b))\n",
        "\n",
        "# Predicciones de los primeros 5 valores\n",
        "print(regr.predict(X)[0:5])\n",
        "\n",
        "# Comparar la preduiccion de los datos (y_p) con el valor real (y)\n",
        "print(\"El valor de r*cuadrada: \",r2_score(y,y_p))\n"
      ],
      "metadata": {
        "colab": {
          "base_uri": "https://localhost:8080/"
        },
        "id": "rS5NQkylQfFJ",
        "outputId": "893f160a-c032-4427-d284-1c54b209139a"
      },
      "execution_count": 10,
      "outputs": [
        {
          "output_type": "stream",
          "name": "stdout",
          "text": [
            "LinearRegression()\n",
            "[1.43867394e-05]\n",
            "y = 1.4386739372803407e-05*x+6.333863526632046\n",
            "[6.80862593 6.33386353 7.55673637 8.69328878 6.33386353]\n",
            "El valor de r*cuadrada:  0.061032970753557625\n"
          ]
        }
      ]
    },
    {
      "cell_type": "code",
      "source": [
        "# Prediccion de los puntos\n",
        "\n",
        "plt.scatter(x,y,color=\"blue\") # Dipersion de los puntos\n",
        "plt.plot(x,y_p,color=\"red\") # Valor que acabamos de predecir\n",
        "plt.title(\"Regresion Lineal\",fontsize=16) # Titulo\n",
        "plt.xlabel(\"Likes Facebook\",fontsize=13) # Etiqueta del eje de la X\n",
        "plt.xlabel(\"Calificacion IMDB\",fontsize=1) # Etiqueta del eje de la Y\n",
        "plt.show() # Mostrar grafica\n"
      ],
      "metadata": {
        "colab": {
          "base_uri": "https://localhost:8080/",
          "height": 461
        },
        "id": "2vn1e7jdP9UQ",
        "outputId": "ee807cad-2681-4814-9cc1-947edef03702"
      },
      "execution_count": 11,
      "outputs": [
        {
          "output_type": "display_data",
          "data": {
            "text/plain": [
              "<Figure size 640x480 with 1 Axes>"
            ],
            "image/png": "[encoded data removed]"
          },
          "metadata": {}
        }
      ]
    }
  ]
}