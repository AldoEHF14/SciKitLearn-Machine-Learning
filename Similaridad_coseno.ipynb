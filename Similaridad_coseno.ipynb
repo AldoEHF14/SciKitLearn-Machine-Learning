{
  "nbformat": 4,
  "nbformat_minor": 0,
  "metadata": {
    "colab": {
      "provenance": [],
      "authorship_tag": "ABX9TyNi82TttVr5N3WiAPmALa6m",
      "include_colab_link": true
    },
    "kernelspec": {
      "name": "python3",
      "display_name": "Python 3"
    },
    "language_info": {
      "name": "python"
    }
  },
  "cells": [
    {
      "cell_type": "markdown",
      "metadata": {
        "id": "view-in-github",
        "colab_type": "text"
      },
      "source": [
        "<a href=\"https://colab.research.google.com/github/AldoEHF14/SciKitLearn-Machine-Learning/blob/main/Similaridad_coseno.ipynb\" target=\"_parent\"><img src=\"https://colab.research.google.com/assets/colab-badge.svg\" alt=\"Open In Colab\"/></a>"
      ]
    },
    {
      "cell_type": "markdown",
      "source": [
        "#  ¿Qué tan parecidos son dos textos?| Similaridad coseno |\n",
        "\n"
      ],
      "metadata": {
        "id": "N8KG3n-WO5L0"
      }
    },
    {
      "cell_type": "code",
      "execution_count": null,
      "metadata": {
        "id": "FqNqGRxrO0qE"
      },
      "outputs": [],
      "source": []
    }
  ]
}