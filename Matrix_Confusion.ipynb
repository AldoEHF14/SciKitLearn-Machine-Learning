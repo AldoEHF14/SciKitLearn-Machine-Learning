{
  "nbformat": 4,
  "nbformat_minor": 0,
  "metadata": {
    "colab": {
      "provenance": [],
      "authorship_tag": "ABX9TyN3Jp/Hb9lk5BteJGg98e+A",
      "include_colab_link": true
    },
    "kernelspec": {
      "name": "python3",
      "display_name": "Python 3"
    },
    "language_info": {
      "name": "python"
    }
  },
  "cells": [
    {
      "cell_type": "markdown",
      "metadata": {
        "id": "view-in-github",
        "colab_type": "text"
      },
      "source": [
        "<a href=\"https://colab.research.google.com/github/AldoEHF14/SciKitLearn-Machine-Learning/blob/main/Matrix_Confusion.ipynb\" target=\"_parent\"><img src=\"https://colab.research.google.com/assets/colab-badge.svg\" alt=\"Open In Colab\"/></a>"
      ]
    },
    {
      "cell_type": "markdown",
      "source": [
        "# Matrix confusion | Métricos |  Clasificación"
      ],
      "metadata": {
        "id": "5zvVP4CAWClZ"
      }
    },
    {
      "cell_type": "code",
      "execution_count": 9,
      "metadata": {
        "id": "cstLDQGwQRvt"
      },
      "outputs": [],
      "source": [
        "# Librerias\n",
        "import numpy as np\n",
        "from sklearn.metrics import confusion_matrix\n",
        "from string import ascii_uppercase\n",
        "import pandas as pd\n",
        "import seaborn as sns\n",
        "import matplotlib.pylab as plt\n"
      ]
    },
    {
      "cell_type": "code",
      "source": [
        "# Valores verdaderos y predichos\n",
        "y_verd = np.array([1,2,1,3,1,1])\n",
        "y_pred = np.array([1,2,1,3,1,3])\n",
        "\n",
        "# Calcular matriz de confusión\n",
        "confm=confusion_matrix(y_verd,y_pred)\n",
        "print(confm)\n",
        "\n",
        "# Tomar los valores unicos de conjunto de datos y_pred\n",
        "columnas = ['Class %s'%(i) for i in list(ascii_uppercase)[0:len(np.unique(y_pred))]]\n",
        "\n",
        "# Convertir en DataFrame\n",
        "df_cm = pd.DataFrame(confm,index=columnas,columns=columnas)\n",
        "\n",
        "# Graficar heatmap\n",
        "plt.figure(figsize=(6,4))\n",
        "grafica = sns.heatmap(df_cm, cmap=\"Pastel1\", annot=True, fmt=\"d\")\n",
        "grafica.set(xlabel=\"Predicciones\", ylabel=\"Valores Verdaderos\")\n",
        "plt.show()\n",
        "\n",
        "# Tabla cruzada para comparación\n",
        "print(\"\\nCrosstab:\\n\")\n",
        "print(pd.crosstab(y_verd, y_pred, rownames=[\"Verdaderos\"], colnames=[\"Predicciones\"], margins=True))\n",
        "\n"
      ],
      "metadata": {
        "colab": {
          "base_uri": "https://localhost:8080/",
          "height": 601
        },
        "id": "YFJkoJd6QpZi",
        "outputId": "5f75d9a3-f0c6-4154-8d62-a5ca7d7e5f86"
      },
      "execution_count": 20,
      "outputs": [
        {
          "output_type": "stream",
          "name": "stdout",
          "text": [
            "[[3 0 1]\n",
            " [0 1 0]\n",
            " [0 0 1]]\n"
          ]
        },
        {
          "output_type": "display_data",
          "data": {
            "text/plain": [
              "<Figure size 600x400 with 2 Axes>"
            ],
            "image/png": "[encoded data removed]"
          },
          "metadata": {}
        },
        {
          "output_type": "stream",
          "name": "stdout",
          "text": [
            "\n",
            "Crosstab:\n",
            "\n",
            "Predicciones  1  2  3  All\n",
            "Verdaderos                \n",
            "1             3  0  1    4\n",
            "2             0  1  0    1\n",
            "3             0  0  1    1\n",
            "All           3  1  2    6\n"
          ]
        }
      ]
    },
    {
      "cell_type": "code",
      "source": [],
      "metadata": {
        "id": "hMgkNE2WTdUP"
      },
      "execution_count": null,
      "outputs": []
    }
  ]
}