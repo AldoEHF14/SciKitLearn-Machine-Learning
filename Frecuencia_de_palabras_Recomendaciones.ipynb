{
  "nbformat": 4,
  "nbformat_minor": 0,
  "metadata": {
    "colab": {
      "provenance": [],
      "authorship_tag": "ABX9TyN49xB6WlSVG6zRFZOyNxA4",
      "include_colab_link": true
    },
    "kernelspec": {
      "name": "python3",
      "display_name": "Python 3"
    },
    "language_info": {
      "name": "python"
    }
  },
  "cells": [
    {
      "cell_type": "markdown",
      "metadata": {
        "id": "view-in-github",
        "colab_type": "text"
      },
      "source": [
        "<a href=\"https://colab.research.google.com/github/AldoEHF14/SciKitLearn-Machine-Learning/blob/main/Frecuencia_de_palabras_Recomendaciones.ipynb\" target=\"_parent\"><img src=\"https://colab.research.google.com/assets/colab-badge.svg\" alt=\"Open In Colab\"/></a>"
      ]
    },
    {
      "cell_type": "code",
      "execution_count": null,
      "metadata": {
        "id": "YQ8wh8fJxKia"
      },
      "outputs": [],
      "source": [
        "#Leer archivo desde el escritorio (Google Colab)\n",
        "from google.colab import files\n",
        "uploaded = files.upload()"
      ]
    },
    {
      "cell_type": "code",
      "source": [
        "from sklearn.feature_extraction.text import CountVectorizer, TfidfTransformer\n",
        "data = ['I like the dog and cat', 'I love the dog cat', 'I interested in a dog turtle']\n",
        "\n",
        "cv=CountVectorizer(stop_words=\"english\")\n",
        "\n",
        "# Token = Cadena de caracteres con un significado\n",
        "data = cv.fit_transform(data)\n",
        "print(cv.vocabulary_)\n",
        "\n",
        "print(\"Frecuencias\")\n",
        "print(data)\n",
        "\n",
        "print(\"Matriz\")\n",
        "tfidf_transformer=TfidfTransformer()\n",
        "print(data.toarray())\n",
        "\n"
      ],
      "metadata": {
        "colab": {
          "base_uri": "https://localhost:8080/"
        },
        "id": "hBZTRhfYxjXI",
        "outputId": "dd7899a7-8210-43b8-8630-6e4a342ed782"
      },
      "execution_count": 4,
      "outputs": [
        {
          "output_type": "stream",
          "name": "stdout",
          "text": [
            "{'like': 3, 'dog': 1, 'cat': 0, 'love': 4, 'interested': 2, 'turtle': 5}\n",
            "Frecuencias\n",
            "<Compressed Sparse Row sparse matrix of dtype 'int64'\n",
            "\twith 9 stored elements and shape (3, 6)>\n",
            "  Coords\tValues\n",
            "  (0, 3)\t1\n",
            "  (0, 1)\t1\n",
            "  (0, 0)\t1\n",
            "  (1, 1)\t1\n",
            "  (1, 0)\t1\n",
            "  (1, 4)\t1\n",
            "  (2, 1)\t1\n",
            "  (2, 2)\t1\n",
            "  (2, 5)\t1\n",
            "Matriz\n",
            "[[1 1 0 1 0 0]\n",
            " [1 1 0 0 1 0]\n",
            " [0 1 1 0 0 1]]\n"
          ]
        }
      ]
    },
    {
      "cell_type": "code",
      "source": [],
      "metadata": {
        "id": "it-GSf8TyfQc"
      },
      "execution_count": null,
      "outputs": []
    }
  ]
}